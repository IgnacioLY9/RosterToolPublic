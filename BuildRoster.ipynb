{
  "nbformat": 4,
  "nbformat_minor": 0,
  "metadata": {
    "colab": {
      "provenance": [],
      "authorship_tag": "ABX9TyNGl73GlLzHYc51roL3E+k7",
      "include_colab_link": true
    },
    "kernelspec": {
      "name": "python3",
      "display_name": "Python 3"
    },
    "language_info": {
      "name": "python"
    }
  },
  "cells": [
    {
      "cell_type": "markdown",
      "metadata": {
        "id": "view-in-github",
        "colab_type": "text"
      },
      "source": [
        "<a href=\"https://colab.research.google.com/github/IgnacioLY9/RosterToolPublic/blob/main/BuildRoster.ipynb\" target=\"_parent\"><img src=\"https://colab.research.google.com/assets/colab-badge.svg\" alt=\"Open In Colab\"/></a>"
      ]
    },
    {
      "cell_type": "code",
      "source": [
        "# necessary imports\n",
        "from itertools import combinations\n",
        "import numpy as np\n",
        "from google.colab import files"
      ],
      "metadata": {
        "id": "7VZDNxj9oINS"
      },
      "execution_count": 89,
      "outputs": []
    },
    {
      "cell_type": "markdown",
      "source": [
        "--------------------------------------------------------------------------------"
      ],
      "metadata": {
        "id": "SY292hD6GMc6"
      }
    },
    {
      "cell_type": "markdown",
      "source": [
        "Only the next two cells require user input"
      ],
      "metadata": {
        "id": "TowKC8WGGWLY"
      }
    },
    {
      "cell_type": "code",
      "source": [
        "# change the following two values to suit your needs\n",
        "\n",
        "# NumberOfAthletesOnTeam is the maximum number of athletes than can compete\n",
        "# for example, for an NCAA team, NumberOfAthletesOnTeam should be set to 10\n",
        "# for Competitions like World Championships, it should be set to 5\n",
        "NumberOfAthletesOnTeam = 7\n",
        "\n",
        "# NumberOfAthletesPerEvent is the number of athletes that must compete on an\n",
        "# event. For NCAA, this is 4. For something like the Team Final at World\n",
        "# Champtionships, this is 3.\n",
        "NumberOfAthletesPerEvent = 6"
      ],
      "metadata": {
        "id": "KcRO0vqDtFNc"
      },
      "execution_count": 90,
      "outputs": []
    },
    {
      "cell_type": "code",
      "source": [
        "# allows the user to select the csv file containing team data\n",
        "fileInput = list(files.upload().keys())[0]\n",
        "data = np.genfromtxt(fileInput, delimiter=',', dtype= 'str')\n",
        "# there should be a white button below this cell that can be used to\n",
        "# to select rosterInput.csv"
      ],
      "metadata": {
        "id": "GKsiVyzutGgm"
      },
      "execution_count": null,
      "outputs": []
    },
    {
      "cell_type": "markdown",
      "source": [
        "--------------------------------------------------------------------------------"
      ],
      "metadata": {
        "id": "IpXlv66jGElN"
      }
    },
    {
      "cell_type": "code",
      "execution_count": null,
      "metadata": {
        "id": "Sfz8YTABmxlp"
      },
      "outputs": [],
      "source": [
        "# class defining a roster. The roster consists of a list of athletes\n",
        "class Roster:\n",
        "    def __init__(self):\n",
        "        self.athletes = []\n",
        "\n",
        "    def __str__(self):\n",
        "        str = \"\"\n",
        "        for ath in self.athletes:\n",
        "            str = str + ath.name + \" \"\n",
        "        return str"
      ]
    },
    {
      "cell_type": "code",
      "source": [
        "# class defining an athlete. The athlete has a name and a score for each of the 6 events\n",
        "class Athlete:\n",
        "    def __init__(self, name, scores):\n",
        "        self.name = name\n",
        "        self.fx = scores[0]\n",
        "        self.ph = scores[1]\n",
        "        self.sr = scores[2]\n",
        "        self.vt = scores[3]\n",
        "        self.pb = scores[4]\n",
        "        self.hb = scores[5]"
      ],
      "metadata": {
        "id": "1uJuQz2fnVAs"
      },
      "execution_count": null,
      "outputs": []
    },
    {
      "cell_type": "code",
      "source": [
        "# helper function\n",
        "# for each event, we take every athlete score in the squad\n",
        "# then we select the 4 best scores on each event and rank them\n",
        "def optimum(squad):\n",
        "    people = []\n",
        "\n",
        "    rosterSize = len(squad.athletes)\n",
        "    floorScores = []\n",
        "    horseScores = []\n",
        "    ringsScores = []\n",
        "    vaultScores = []\n",
        "    pbarScores = []\n",
        "    hbarScores = []\n",
        "    for athlete in squad.athletes:\n",
        "        floorScores.append(athlete.fx)\n",
        "        horseScores.append(athlete.ph)\n",
        "        ringsScores.append(athlete.sr)\n",
        "        vaultScores.append(athlete.vt)\n",
        "        pbarScores.append(athlete.pb)\n",
        "        hbarScores.append(athlete.hb)\n",
        "    floorScores = np.array(floorScores)\n",
        "    horseScores = np.array(horseScores)\n",
        "    ringsScores = np.array(ringsScores)\n",
        "    vaultScores = np.array(vaultScores)\n",
        "    pbarScores = np.array(pbarScores)\n",
        "    hbarScores = np.array(hbarScores)\n",
        "\n",
        "    fxidx = np.argsort(floorScores)[::-1]\n",
        "    phidx = np.argsort(horseScores)[::-1]\n",
        "    sridx = np.argsort(ringsScores)[::-1]\n",
        "    vtidx = np.argsort(vaultScores)[::-1]\n",
        "    pbidx = np.argsort(pbarScores)[::-1]\n",
        "    hbidx = np.argsort(hbarScores)[::-1]\n",
        "\n",
        "    if (rosterSize < NumberOfAthletesPerEvent):\n",
        "        people.extend([fxidx, phidx, sridx, vtidx, pbidx, hbidx])\n",
        "    else:\n",
        "        people.extend([fxidx[0:NumberOfAthletesPerEvent], phidx[0:NumberOfAthletesPerEvent], sridx[0:NumberOfAthletesPerEvent],\n",
        "                       vtidx[0:NumberOfAthletesPerEvent], pbidx[0:NumberOfAthletesPerEvent], hbidx[0:NumberOfAthletesPerEvent]])\n",
        "    return people"
      ],
      "metadata": {
        "id": "P73woPYNoUPd"
      },
      "execution_count": null,
      "outputs": []
    },
    {
      "cell_type": "code",
      "source": [
        "# helper function to calculate the score of a specific squad\n",
        "# just calculate each event score, and then add up all of the\n",
        "# event scores to get the team score\n",
        "# returns a list consisting of the 6 event scores and the total\n",
        "def teamScore(squad):\n",
        "    fxscore = 0\n",
        "    phscore = 0\n",
        "    srscore = 0\n",
        "    vtscore = 0\n",
        "    pbscore = 0\n",
        "    hbscore = 0\n",
        "\n",
        "    people = optimum(squad)\n",
        "    for ath in people[0]:\n",
        "        fxscore = fxscore + squad.athletes[ath].fx\n",
        "    for ath in people[1]:\n",
        "        phscore = phscore + squad.athletes[ath].ph\n",
        "    for ath in people[2]:\n",
        "        srscore = srscore + squad.athletes[ath].sr\n",
        "    for ath in people[3]:\n",
        "        vtscore = vtscore + squad.athletes[ath].vt\n",
        "    for ath in people[4]:\n",
        "        pbscore = pbscore + squad.athletes[ath].pb\n",
        "    for ath in people[5]:\n",
        "        hbscore = hbscore + squad.athletes[ath].hb\n",
        "\n",
        "    total = fxscore + phscore + srscore + vtscore + pbscore + hbscore\n",
        "\n",
        "    scores = [fxscore, phscore, srscore, vtscore, pbscore, hbscore, total]\n",
        "    return scores"
      ],
      "metadata": {
        "id": "5JT_6O0louUl"
      },
      "execution_count": null,
      "outputs": []
    },
    {
      "cell_type": "code",
      "source": [
        "# helper function that creates all possible combinations of athletes\n",
        "# of the specified size\n",
        "# it calculates all of the expected scores for those teams and returns\n",
        "# a sorted list of those squads by score\n",
        "def makeTeams(Team):\n",
        "    n = len(Team.athletes)\n",
        "\n",
        "    playerSelection = []\n",
        "    for ones_positions in combinations(range(n), NumberOfAthletesOnTeam):\n",
        "        binary_string = ['0'] * n\n",
        "        for pos in ones_positions:\n",
        "            binary_string[pos] = '1'\n",
        "        playerSelection.append(''.join(binary_string))\n",
        "\n",
        "    scores = []\n",
        "    for selection in playerSelection:\n",
        "        squad = Roster()\n",
        "        for i in range(0,n):\n",
        "            if selection[i] == \"1\":\n",
        "                squad.athletes.append(Team.athletes[i])\n",
        "        scores.append(teamScore(squad))\n",
        "\n",
        "    returnList = []\n",
        "\n",
        "    for x, y in zip(playerSelection, scores):\n",
        "        returnList.append((x,y))\n",
        "\n",
        "    returnList = sorted(returnList, key = lambda element: element[1][6], reverse = True)\n",
        "\n",
        "    return returnList\n"
      ],
      "metadata": {
        "id": "24A-Ir2tn3zY"
      },
      "execution_count": null,
      "outputs": []
    },
    {
      "cell_type": "code",
      "source": [
        "# read the data from the numpy array\n",
        "firstCol = data[:,0]\n",
        "fxidx = np.where(firstCol == \"Floor\")[0][0]\n",
        "phidx = np.where(firstCol == \"Horse\")[0][0]\n",
        "sridx = np.where(firstCol == \"Rings\")[0][0]\n",
        "vtidx = np.where(firstCol == \"Vault\")[0][0]\n",
        "pbidx = np.where(firstCol == \"Pbars\")[0][0]\n",
        "hbidx = np.where(firstCol == \"Hbar\")[0][0]\n",
        "\n",
        "FloorTable = data[1: phidx]\n",
        "HorseTable = data[phidx: sridx]\n",
        "RingsTable = data[sridx: vtidx]\n",
        "VaultTable = data[vtidx: pbidx]\n",
        "PbarsTable = data[pbidx: hbidx]\n",
        "HbarTable = data[hbidx:]\n",
        "\n",
        "Events = [FloorTable, HorseTable, RingsTable, VaultTable, PbarsTable, HbarTable]\n",
        "\n",
        "Names = np.unique(firstCol)\n",
        "exclude = ['', 'Floor', 'Horse', 'Rings', 'Vault', 'Pbars', 'Hbar']\n",
        "Names = Names[~np.isin(Names, exclude)]\n",
        "\n",
        "Team = Roster()"
      ],
      "metadata": {
        "id": "v-bxvWPCpXl9"
      },
      "execution_count": null,
      "outputs": []
    },
    {
      "cell_type": "code",
      "source": [
        "# helper function that returns an individual athlete's expected score\n",
        "# for a specified event\n",
        "def eventScore(weight, loc, event):\n",
        "    # loc of -1 means that there are no scores for this athlete\n",
        "    # on this event at all\n",
        "    if loc == -1:\n",
        "        return 0\n",
        "    # load the weights\n",
        "    # the get loaded as string, so convert to float\n",
        "    # normalize\n",
        "    weight = weight.astype(float)\n",
        "    weight = weight / np.sum(weight)\n",
        "\n",
        "    # Load the numpy array of scores. Convert to float because it\n",
        "    # is string be default\n",
        "    scores = event[loc, 1:]\n",
        "    scores = scores.astype(float)\n",
        "\n",
        "    # Mask to exclude scores that are -1\n",
        "    valid_mask = scores != -1\n",
        "\n",
        "    # Eliminate comps that we don't want to count\n",
        "    filtered_scores = scores[valid_mask]\n",
        "    filtered_weights = weight[valid_mask]\n",
        "\n",
        "    # Re-normalize weights to sum to 1 after the mask has been used\n",
        "    filtered_weights = filtered_weights / np.sum(filtered_weights)\n",
        "\n",
        "    # Return the athlete's score\n",
        "    score = np.dot(filtered_scores, filtered_weights)\n",
        "    return score"
      ],
      "metadata": {
        "id": "JRS94AkCsdjU"
      },
      "execution_count": null,
      "outputs": []
    },
    {
      "cell_type": "code",
      "source": [
        "# helper function that calculates the expected scores for each athlete\n",
        "# and adds the athlete to the athlete list of the Roster\n",
        "def getAthleteData():\n",
        "    for gymnast in Names:\n",
        "        scores = []\n",
        "        for event in Events:\n",
        "            weight = event[0, 1:] # all of the weights for that event\n",
        "            loc = np.where(event[:,0] == gymnast) # find the location of the athlete in the table\n",
        "            if (loc[0].size != 0): # if the athlete is there, set the location to int\n",
        "                loc = loc[0][0]\n",
        "            else: # mark that the athlete is not there with -1\n",
        "                loc = -1\n",
        "            scores.append(eventScore(weight, loc, event))\n",
        "        ath = Athlete(gymnast, np.array(scores))\n",
        "        Team.athletes.append(ath)"
      ],
      "metadata": {
        "id": "qIY3IlfHsW3I"
      },
      "execution_count": null,
      "outputs": []
    },
    {
      "cell_type": "code",
      "source": [
        "# get all of the scores for each athlete\n",
        "getAthleteData()\n",
        "\n",
        "# if there aren't enough athletes, we can just stop\n",
        "if (len(Team.athletes) < NumberOfAthletesOnTeam):\n",
        "  raise Exception(\"There are less athletes than positions on the team. You can just select all athletes.\")\n",
        "\n",
        "# create every single team\n",
        "bestTeams = makeTeams(Team)\n",
        "n = len(Team.athletes)\n",
        "\n",
        "output = np.full((10 * (3 + NumberOfAthletesPerEvent), 6), '', dtype='<U10')\n",
        "\n",
        "for i in range(0,  10 if len(bestTeams) > 10 else len(bestTeams)):\n",
        "    firstline = np.array([f\"Team {i+1}\", bestTeams[i][1][6], '', '', '', ''])\n",
        "    # get the ith roster\n",
        "    output[(3 + NumberOfAthletesPerEvent)*i, :] = firstline\n",
        "    squad = Roster()\n",
        "    for j in range(0,n):\n",
        "            if bestTeams[i][0][j] == \"1\":\n",
        "                squad.athletes.append(Team.athletes[j])\n",
        "    people = optimum(squad)\n",
        "    output[(3 + NumberOfAthletesPerEvent)*i + 1, :] = np.array(['Floor', 'Horse', 'Rings', 'Vault', 'Pbars', 'Hbar'])\n",
        "    for j in range(0,6):\n",
        "        output[(3 + NumberOfAthletesPerEvent)*i+2: (3 + NumberOfAthletesPerEvent)*i+2+NumberOfAthletesPerEvent, j] = np.array([Team.athletes[indices].name for indices in people[j]])\n",
        "    output[(3 + NumberOfAthletesPerEvent)*i+2+NumberOfAthletesPerEvent, :] = bestTeams[i][1][0:6]"
      ],
      "metadata": {
        "id": "CQ-F1AgVsX7t"
      },
      "execution_count": null,
      "outputs": []
    },
    {
      "cell_type": "code",
      "source": [
        "# Save the results to a file.\n",
        "np.savetxt('rosterOutput.csv', output, delimiter=',', fmt='%s')\n",
        "files.download('rosterOutput.csv')"
      ],
      "metadata": {
        "id": "RxOj9smRssBY"
      },
      "execution_count": null,
      "outputs": []
    }
  ]
}